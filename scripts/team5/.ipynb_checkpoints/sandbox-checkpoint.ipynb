{
 "cells": [
  {
   "cell_type": "markdown",
   "metadata": {},
   "source": []
  },
  {
   "cell_type": "code",
   "execution_count": 26,
   "metadata": {},
   "outputs": [],
   "source": [
    "%matplotlib notebook\n",
    "import numpy as np\n",
    "import pickle\n",
    "from matplotlib import pyplot as plt\n",
    "from sklearn.decomposition import PCA\n",
    "\n",
    "from mpl_toolkits.mplot3d import Axes3D\n",
    "### Adjust the attributes\n",
    "\n",
    "prefix = \"C:\\\\Users\\\\cineq\\\\repos\\\\ZPS2018\\\\features\\\\\"\n",
    "dataset = \"cats_dogs\"\n",
    "path_name = prefix + dataset + \"\\\\sifts\\\\\"\n",
    "\n",
    "d = 64 ## dimensions after PCA\n",
    "\n",
    "######\n",
    "\n",
    "in_object = open(path_name + 'sifts_all.pickle', 'rb')\n",
    "sifts = pickle.load(in_object)\n",
    "\n",
    "len(sifts)\n",
    "\n",
    "pca = PCA(n_components = d)\n",
    "principal_components = pca.fit_transform(sifts)\n",
    "\n",
    "out_name = 'sifts_all_reduced_' + str(d) + '.pickle'\n",
    "out_object = open(out_name, 'wb')\n",
    "\n",
    "pickle.dump(principal_components, out_object)"
   ]
  },
  {
   "cell_type": "code",
   "execution_count": 25,
   "metadata": {},
   "outputs": [
    {
     "data": {
      "text/plain": [
       "array([[ 6.9586990e+01, -2.2562654e+01,  1.4179248e+02, ...,\n",
       "        -9.4142485e-01, -1.2341493e+00,  4.3466759e+00],\n",
       "       [-3.6859092e-01,  1.0495223e+02,  1.4453273e+02, ...,\n",
       "        -5.2062338e-03,  1.4502038e-01, -7.9170473e-02],\n",
       "       [-7.3037270e+01,  6.3412373e+01, -3.2631920e+01, ...,\n",
       "         2.9382637e-01,  1.3260843e-01,  1.2338835e+00],\n",
       "       ...,\n",
       "       [ 1.9429295e+02,  3.9730639e+00,  6.8561745e+01, ...,\n",
       "         5.7275705e+00, -2.1610198e+00,  8.8738525e-01],\n",
       "       [-6.8511620e+01, -1.4452966e+02, -8.3298515e+01, ...,\n",
       "        -3.5575137e+00,  6.8607157e-01, -1.0819942e+00],\n",
       "       [-8.4924072e+01, -1.2343694e+02,  9.4142212e+01, ...,\n",
       "         2.1397843e+00,  5.9772992e-01,  2.3170023e+00]], dtype=float32)"
      ]
     },
     "execution_count": 25,
     "metadata": {},
     "output_type": "execute_result"
    }
   ],
   "source": [
    "import numpy as np\n",
    "from sklearn.cluster import KMeans\n",
    "\n",
    "in_object = open('sifts_all_reduced_64.pickle', 'rb')\n",
    "sifts_reduced = pickle.load(in_object)\n",
    "\n",
    "\n",
    "dictionary = KMeans(n_clusters=50, random_state=0).fit(sifts_reduced)\n",
    "dictionary.labels_\n",
    "dictionary.cluster_centers_"
   ]
  }
 ],
 "metadata": {
  "kernelspec": {
   "display_name": "Python 3",
   "language": "python",
   "name": "python3"
  },
  "language_info": {
   "codemirror_mode": {
    "name": "ipython",
    "version": 3
   },
   "file_extension": ".py",
   "mimetype": "text/x-python",
   "name": "python",
   "nbconvert_exporter": "python",
   "pygments_lexer": "ipython3",
   "version": "3.7.1"
  }
 },
 "nbformat": 4,
 "nbformat_minor": 2
}
